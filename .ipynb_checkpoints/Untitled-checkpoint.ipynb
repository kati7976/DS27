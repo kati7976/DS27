{
 "cells": [
  {
   "cell_type": "code",
   "execution_count": 95,
   "metadata": {},
   "outputs": [
    {
     "name": "stdout",
     "output_type": "stream",
     "text": [
      "Длина фразы 1:  23\n",
      "Длина фразы 2:  11\n",
      "Фраза 1 длиннее фразы 2\n"
     ]
    }
   ],
   "source": [
    "phrase_1 = 'На поле танки грохотали'\n",
    "phrase_2 = 'Солдаты шли'\n",
    "\n",
    "print ( 'Длина фразы 1: ', len (phrase_1))\n",
    "print ( 'Длина фразы 2: ', len (phrase_2))\n",
    "\n",
    "if len (phrase_1) > len (phrase_2) :\n",
    "    print ('Фраза 1 длиннее фразы 2')"
   ]
  },
  {
   "cell_type": "code",
   "execution_count": 96,
   "metadata": {},
   "outputs": [
    {
     "name": "stdout",
     "output_type": "stream",
     "text": [
      "Длина фразы 1:  11\n",
      "Длина фразы 2:  23\n",
      "Фраза 2 длиннее фразы 1\n"
     ]
    }
   ],
   "source": [
    "phrase_1 = 'Солдаты шли'\n",
    "phrase_2 = 'На поле танки грохотали'\n",
    "\n",
    "print ( 'Длина фразы 1: ', len (phrase_1))\n",
    "print ( 'Длина фразы 2: ', len (phrase_2))\n",
    "\n",
    "if len (phrase_1) < len (phrase_2) :\n",
    "    print ('Фраза 2 длиннее фразы 1')"
   ]
  },
  {
   "cell_type": "code",
   "execution_count": 98,
   "metadata": {},
   "outputs": [
    {
     "name": "stdout",
     "output_type": "stream",
     "text": [
      "Длина фразы 1:  23\n",
      "Длина фразы 2:  23\n",
      "Фразы равной длины\n"
     ]
    }
   ],
   "source": [
    "phrase_1 = 'На поле танки грохотали'\n",
    "phrase_2 = 'На поле танки грохотали'\n",
    "\n",
    "print ( 'Длина фразы 1: ', len (phrase_1))\n",
    "print ( 'Длина фразы 2: ', len (phrase_2))\n",
    "\n",
    "if len (phrase_1) == len (phrase_2) :\n",
    "    print ('Фразы равной длины')"
   ]
  },
  {
   "cell_type": "code",
   "execution_count": null,
   "metadata": {},
   "outputs": [],
   "source": [
    "Задание 2"
   ]
  },
  {
   "cell_type": "code",
   "execution_count": 104,
   "metadata": {},
   "outputs": [
    {
     "name": "stdout",
     "output_type": "stream",
     "text": [
      "2020 високосный год\n"
     ]
    }
   ],
   "source": [
    "year = 2020\n",
    "if year % 4 == 0 :\n",
    "    print ( year , 'високосный год')"
   ]
  },
  {
   "cell_type": "code",
   "execution_count": 109,
   "metadata": {},
   "outputs": [
    {
     "name": "stdout",
     "output_type": "stream",
     "text": [
      "2019 обычный год\n"
     ]
    }
   ],
   "source": [
    "year = 2019\n",
    "if year % 4 == 0 :\n",
    "    print ( year , 'високосный год')\n",
    "else:\n",
    "    print ( year, 'обычный год')"
   ]
  },
  {
   "cell_type": "code",
   "execution_count": null,
   "metadata": {},
   "outputs": [],
   "source": [
    "Задание 3"
   ]
  },
  {
   "cell_type": "code",
   "execution_count": 5,
   "metadata": {},
   "outputs": [
    {
     "name": "stdout",
     "output_type": "stream",
     "text": [
      "Введите месяц: июль\n",
      "Введите число: 4\n",
      "Рак\n"
     ]
    }
   ],
   "source": [
    "month_1 = input ('Введите месяц: ') \n",
    "day = int(input ('Введите число: ')) \n",
    "if month_1 == 'январь' and day < 32:\n",
    "    print ('Козерог')\n",
    "elif month_1 == 'июль' and day < 32:\n",
    "        print ('Рак')"
   ]
  },
  {
   "cell_type": "code",
   "execution_count": null,
   "metadata": {},
   "outputs": [],
   "source": [
    "Задание 4"
   ]
  },
  {
   "cell_type": "code",
   "execution_count": 7,
   "metadata": {},
   "outputs": [
    {
     "name": "stdout",
     "output_type": "stream",
     "text": [
      "Введите число: 205\n",
      "Введите число: 14\n",
      "Введите число: 58\n"
     ]
    }
   ],
   "source": [
    "width = int(input ('Введите число: '))\n",
    "length = int(input ('Введите число: '))\n",
    "height = int(input ('Введите число: '))\n",
    "if width < 15 and length < 15 and height < 15:\n",
    "    print ('Коробка №1')"
   ]
  },
  {
   "cell_type": "code",
   "execution_count": null,
   "metadata": {},
   "outputs": [],
   "source": []
  }
 ],
 "metadata": {
  "kernelspec": {
   "display_name": "Python 3",
   "language": "python",
   "name": "python3"
  }
 },
 "nbformat": 4,
 "nbformat_minor": 4
}
